{
 "cells": [
  {
   "cell_type": "code",
   "execution_count": null,
   "id": "0",
   "metadata": {},
   "outputs": [],
   "source": [
    "import pandas as pd, numpy as np\n",
    "import seaborn as sns\n",
    "import matplotlib.pyplot as plt\n",
    "import re\n",
    "import json\n",
    "from datetime import datetime as dt\n",
    "import statsmodels.api as sm\n",
    "from sklearn.model_selection import train_test_split\n",
    "from sklearn.metrics import r2_score\n",
    "from sklearn.neighbors import KNeighborsClassifier\n",
    "import plotly.express as px\n",
    "from math import radians # to convert latitude/longitude\n",
    "import dataframe_image as dfi\n",
    "\n",
    "from Project1 import *\n",
    "\n",
    "import plotly.io as pio\n",
    "pio.renderers.default = 'iframe'"
   ]
  },
  {
   "cell_type": "markdown",
   "id": "1",
   "metadata": {},
   "source": [
    "# Boston Airbnb Dataset\n",
    "https://www.kaggle.com/datasets/airbnb/boston?resource=download\n",
    "\n",
    "Three questions/topics to explore:\n",
    "- How does **geography** inlfuence Airbnb prices in Boston?\n",
    "    - What areas/zip codes/neighborhoods are more expensive than others?\n",
    "- How do **property characteristics** influence Airbnb prices in Boston?\n",
    "    - Number of bathrooms, bedrooms, beds, square footage, reviews, etc.\n",
    "- How does **time (seasonality)** influence Airbnb prices in Boston?\n",
    "    - Period of the week (days), period of the month (weeks), period of the year (months)?\n",
    "    - We only have about 2 years of data to work with, but we'll see what comes out."
   ]
  },
  {
   "cell_type": "markdown",
   "id": "2",
   "metadata": {},
   "source": [
    "# First, load and clean the data"
   ]
  },
  {
   "cell_type": "code",
   "execution_count": null,
   "id": "3",
   "metadata": {},
   "outputs": [],
   "source": [
    "boston_listings = pd.read_csv('./data/airbnb_boston/listings.csv', index_col='id')\n",
    "boston_calendar = pd.read_csv('./data/airbnb_boston/calendar.csv')\n",
    "boston_reviews = pd.read_csv('./data/airbnb_boston/reviews.csv')\n",
    "\n",
    "boston_listings = boston_listings.map(convert_dollars_to_float).map(convert_percentages_to_float).map(convert_string_date_to_dt)\n",
    "boston_calendar = boston_calendar.apply(convert_dollars_to_float).map(convert_percentages_to_float).map(convert_string_date_to_dt)\n",
    "boston_reviews = boston_reviews.apply(convert_dollars_to_float).map(convert_percentages_to_float).map(convert_string_date_to_dt)\n",
    "\n",
    "# estimate missing monthly_price/weekly_price fields using regression (based on price field)\n",
    "boston_listings = estimate_y_from_X(data=boston_listings, y_label='monthly_price', X_labels='price')['filled_data']\n",
    "boston_listings = estimate_y_from_X(data=boston_listings, y_label='weekly_price', X_labels='price')['filled_data']\n",
    "\n",
    "# estimate missing zip codes using KNN classification (based on latitude and longitude)\n",
    "boston_listings = classify_y_based_on_X(\n",
    "    data=get_cleaned_zipcodes(boston_listings), y_label='zipcode_cleaned', X_labels=['latitude', 'longitude'])['filled_data']"
   ]
  },
  {
   "cell_type": "code",
   "execution_count": null,
   "id": "4",
   "metadata": {},
   "outputs": [],
   "source": [
    "# identify column types\n",
    "boston_listing_col_types = get_columns_and_types(boston_listings)\n",
    "boston_calendar_col_types = get_columns_and_types(boston_calendar)\n",
    "boston_review_col_types = get_columns_and_types(boston_reviews)\n",
    "# boston_listing_col_types"
   ]
  },
  {
   "cell_type": "markdown",
   "id": "5",
   "metadata": {},
   "source": [
    "# Question 1: How does geography influence Airbnb rental prices?"
   ]
  },
  {
   "cell_type": "markdown",
   "id": "6",
   "metadata": {},
   "source": [
    "## Add a choropleth (geographical map) and overlay the listings prices from the dataset.\n",
    "- Thank you for the geojson data: https://github.com/codeforgermany/click_that_hood/blob/main/public/data/boston.geojson?short_path=46589b4\n",
    "- Use log scale for the prices (so the colorbar isn't too compressed) - or change the scale of the colorbar.\n",
    "\n",
    "A quick visual inspection of the map allow us to see more expensive listings tend to northward, and in the following neighborhoods (in no particular order):\n",
    "- West End, North End, South End, Downtown, Leather District, Chinatown, Leather District, South Boston Waterfront, Fenway.\n",
    "\n",
    "- What if we run a regression-type model of price on latitude+longitude?"
   ]
  },
  {
   "cell_type": "code",
   "execution_count": null,
   "id": "7",
   "metadata": {},
   "outputs": [],
   "source": [
    "# geoplot of neighborhoods with listings overlaid\n",
    "with open('./data/airbnb_boston/boston.geojson', 'r') as f:\n",
    "    geojson = json.load(f)\n",
    "    \n",
    "geoplot_data = boston_listings[['latitude', 'longitude', 'zipcode_cleaned', 'price']].dropna()\n",
    "geoplot_data['log_price'] = geoplot_data['price'].apply(np.log)\n",
    "\n",
    "fig = px.choropleth(\n",
    "    data_frame={'name': [i['properties']['name'] for i in geojson['features']]}, \n",
    "    geojson=geojson, \n",
    "    locations='name', \n",
    "    featureidkey=\"properties.name\",\n",
    "    title='Boston Neighborhoods and Airbnb Prices<br>Colorbar is Log Scale',\n",
    ")\n",
    "fig.update_geos(fitbounds=\"locations\", visible=False) \n",
    "fig.add_trace(\n",
    "    px.scatter_geo(\n",
    "        data_frame=geoplot_data, \n",
    "        lat='latitude', \n",
    "        lon='longitude', \n",
    "        color='log_price',\n",
    "        hover_data={\n",
    "            'latitude': ':.2f', \n",
    "            'longitude': ':.2f', \n",
    "            'price': ':.2f', \n",
    "            'log_price': ':.2f',\n",
    "        },\n",
    "    ).data[0])\n",
    "\n",
    "# relabel the colorbar (as showing log values is confusing)\n",
    "fig.update_coloraxes(colorbar={\n",
    "    'title': 'Price',\n",
    "    'tickvals': geoplot_data['log_price'].quantile([0.01, 0.999]).values,\n",
    "    'ticktext': ['Cheaper', 'Pricier'],\n",
    "})\n",
    "fig.update_layout(showlegend=False)\n",
    "\n",
    "fig.show()\n",
    "\n",
    "pio.write_image(fig, 'prices_and_neighborhoods.png') "
   ]
  },
  {
   "cell_type": "code",
   "execution_count": null,
   "id": "8",
   "metadata": {},
   "outputs": [],
   "source": [
    "prices_by_neighborhood = pd.concat([\n",
    "    boston_listings[['price', 'neighbourhood_cleansed']].groupby('neighbourhood_cleansed').mean().squeeze().to_frame('Mean Price'),\n",
    "    boston_listings[['price', 'neighbourhood_cleansed']].groupby('neighbourhood_cleansed').median().squeeze().to_frame('Median Price'),\n",
    "], axis=1).sort_values(by='Median Price', ascending=False)\n",
    "prices_by_neighborhood_styled = prices_by_neighborhood.style.format('${:.0f}').set_caption('Mean and Median Price by Neighborhood<br>Sorted by Median')\n",
    "dfi.export(prices_by_neighborhood_styled, 'prices_by_neighborhood_table.png')\n",
    "prices_by_neighborhood_styled"
   ]
  },
  {
   "cell_type": "code",
   "execution_count": null,
   "id": "9",
   "metadata": {},
   "outputs": [],
   "source": [
    "fig, ax = plt.subplots(figsize=(15, 5))\n",
    "ax = prices_by_neighborhood['Median Price'].plot.bar(cmap='viridis', title='Sorted Bar Plot of Median Price by Neighborhood')\n",
    "ax.axvline(11.5, color='black', alpha=0.2)\n",
    "ax.axhline(150, color='black', alpha=0.2)\n",
    "fig.tight_layout()\n",
    "plt.savefig('prices_by_prices_by_neighborhood_barplot.png')"
   ]
  },
  {
   "cell_type": "markdown",
   "id": "10",
   "metadata": {},
   "source": [
    "# Let's look at how well a regression can fit price on latitude and longitude\n",
    "- This gives a very poor fit, even on the training set. Why?\n",
    "    - It could be that latitude and longtide - which reflect locations on a sphere (the Earth) do not align well with 2d locations on a map.\n",
    "    - Therefore, the link betweeb price and lat/lon may not be linear, which means regression is not the right tool.\n",
    "    - Let's keep exploring."
   ]
  },
  {
   "cell_type": "code",
   "execution_count": null,
   "id": "11",
   "metadata": {},
   "outputs": [],
   "source": [
    "reg_price_on_lat_lon = estimate_y_from_X(\n",
    "    data=boston_listings,\n",
    "    y_label='price',\n",
    "    X_labels=['latitude', 'longitude'],\n",
    "    train_size=0.6,\n",
    "    random_state=42,\n",
    "    add_constant=False,\n",
    ")"
   ]
  },
  {
   "cell_type": "code",
   "execution_count": null,
   "id": "12",
   "metadata": {},
   "outputs": [],
   "source": [
    "sns.scatterplot(\n",
    "    data=pd.concat({\n",
    "        'y_train': reg_price_on_lat_lon['y_train'],\n",
    "        'y_fitted': reg_price_on_lat_lon['model'].fittedvalues,\n",
    "    }, axis=1),\n",
    "    x='y_train',\n",
    "    y='y_fitted',\n",
    ")"
   ]
  },
  {
   "cell_type": "markdown",
   "id": "13",
   "metadata": {},
   "source": [
    "# Question 2: How do characteristics influence Airbnb listing prices?\n",
    "- Here, we can structure a regression on categorical variables against price.\n",
    "    - But we should ensure that numeric categoricals - like number of bedrooms - appear here!\n",
    "    - Quantitative variables - like square footage - should also appear!\n",
    "- Remember to create dummies from the categoricals.\n",
    "- From a manual review of categories, these look like they may be informative (not free text, not arbitrary values, etc)\n",
    "    - room_type\n",
    "- TODO: clean up AMENITIES"
   ]
  },
  {
   "cell_type": "code",
   "execution_count": null,
   "id": "14",
   "metadata": {},
   "outputs": [],
   "source": [
    "boston_listings['room_type'].unique()"
   ]
  },
  {
   "cell_type": "code",
   "execution_count": null,
   "id": "15",
   "metadata": {},
   "outputs": [],
   "source": [
    "boston_listing_col_types['int']"
   ]
  },
  {
   "cell_type": "code",
   "execution_count": null,
   "id": "16",
   "metadata": {},
   "outputs": [],
   "source": [
    "boston_listings['accommodates']"
   ]
  },
  {
   "cell_type": "code",
   "execution_count": null,
   "id": "17",
   "metadata": {},
   "outputs": [],
   "source": [
    "ignore = [\n",
    "    'name', 'summary', 'space', 'description', 'neighborhood_overview', 'host_verifications', 'neighbourhood', 'host_about', 'notes',\n",
    "    'transit', 'host_location', 'access', 'host_about', 'interaction', 'zipcode', 'smart_location', 'house_rules',\n",
    "    'neighbourhood_cleansed', 'city', 'street', 'host_neighbourhood', 'host_name',\n",
    "]\n",
    "\n",
    "unique_characteristics = {}\n",
    "for i in boston_listing_col_types['object'] + boston_listing_col_types['int']:\n",
    "    if i in ignore or '_url' in i:\n",
    "        continue\n",
    "    unique_values = boston_listings[i].dropna().unique()\n",
    "    if len(unique_values) > 1:\n",
    "        unique_characteristics[i] = unique_values"
   ]
  },
  {
   "cell_type": "code",
   "execution_count": null,
   "id": "18",
   "metadata": {},
   "outputs": [],
   "source": [
    "sns.pairplot(\n",
    "    data=boston_listings[['price'] + ['bathrooms', 'bedrooms', 'beds']].dropna()\n",
    ")"
   ]
  },
  {
   "cell_type": "code",
   "execution_count": null,
   "id": "19",
   "metadata": {},
   "outputs": [],
   "source": [
    "sns.scatterplot(\n",
    "    data=boston_listings[['price', 'square_feet']].dropna(),\n",
    "    x='square_feet', y='price')"
   ]
  },
  {
   "cell_type": "code",
   "execution_count": null,
   "id": "20",
   "metadata": {},
   "outputs": [],
   "source": [
    "boston_listings[boston_listing_col_types['object']].iloc[-1]"
   ]
  },
  {
   "cell_type": "code",
   "execution_count": null,
   "id": "21",
   "metadata": {},
   "outputs": [],
   "source": []
  },
  {
   "cell_type": "code",
   "execution_count": null,
   "id": "22",
   "metadata": {},
   "outputs": [],
   "source": []
  },
  {
   "cell_type": "code",
   "execution_count": null,
   "id": "23",
   "metadata": {},
   "outputs": [],
   "source": []
  },
  {
   "cell_type": "code",
   "execution_count": null,
   "id": "24",
   "metadata": {},
   "outputs": [],
   "source": []
  },
  {
   "cell_type": "markdown",
   "id": "25",
   "metadata": {},
   "source": [
    "# Question 3: How does time influence Airbnb listing prices?\n",
    "- Day of week.\n",
    "- Week of month.\n",
    "- Month of year."
   ]
  },
  {
   "cell_type": "code",
   "execution_count": null,
   "id": "26",
   "metadata": {},
   "outputs": [],
   "source": [
    "# convert price column to a float, assuming format of $#.#\n",
    "boston_calendar.price = [float(i.replace('$', '').replace(',', '')) if type(i) is str else i for i in boston_calendar.price]\n",
    "\n",
    "# concert date to a datetime object\n",
    "boston_calendar.date = [pd.Timestamp(i) if type(i) is str else i for i in boston_calendar.date]\n",
    "\n",
    "# add a month, year columns for seasonality analysis\n",
    "day_map = {0: 'Mon', 1: 'Tues', 2: 'Wed', 3: 'Thurs', 4: 'Fri', 5: 'Sat', 6: 'Sun'}\n",
    "boston_calendar['weekday'] = [i.weekday() for i in boston_calendar.date]\n",
    "boston_calendar['month'] = [i.month for i in boston_calendar.date]\n",
    "boston_calendar['year'] = [i.year for i in boston_calendar.date]"
   ]
  },
  {
   "cell_type": "code",
   "execution_count": null,
   "id": "27",
   "metadata": {},
   "outputs": [],
   "source": [
    "boxplot_data = boston_calendar.assign(log_price=lambda x: np.log(x['price'])).dropna()\n",
    "ax = sns.boxplot(\n",
    "    data=boxplot_data,\n",
    "    x='month',\n",
    "    y='log_price',\n",
    "    showfliers=False,\n",
    "    palette={month: 'salmon' if month in [9, 10, 11] else 'dodgerblue' for month in boxplot_data.month.unique()},\n",
    "    hue='month', legend=False,\n",
    ")\n",
    "ax.set_title(\"Distribution of Log Listing Prices by Calendar Month\");\n",
    "plt.savefig('price_by_month_boxplot.png')"
   ]
  },
  {
   "cell_type": "code",
   "execution_count": null,
   "id": "28",
   "metadata": {},
   "outputs": [],
   "source": [
    "ax = sns.boxplot(\n",
    "    data=boxplot_data,\n",
    "    x='weekday',\n",
    "    y='log_price',\n",
    "    showfliers=False,\n",
    "    palette={weekday: 'salmon' if weekday in [4, 5] else 'dodgerblue' for weekday in boxplot_data.weekday.unique()},\n",
    "    hue='weekday', legend=False,\n",
    ")\n",
    "ax.set_title(\"Distribution of Log Listing Prices by Day of the Week\");\n",
    "ax.set_xticks(ax.get_xticks());\n",
    "ax.set_xticklabels(day_map[i] for i in ax.get_xticks());\n",
    "plt.savefig('price_by_weekday_boxplot.png')"
   ]
  },
  {
   "cell_type": "markdown",
   "id": "29",
   "metadata": {},
   "source": [
    "What other numerical values can we use (and what needs to be filled before we can)?\n",
    "- host_response_rate (missing around 400 entries)\n",
    "- host_acceptance_rate (missing around 400 entries)\n",
    "- square_feet (missing a lot)\n",
    "- extra people?\n",
    "- cleaning fee?\n",
    "- security_deposit?"
   ]
  },
  {
   "cell_type": "code",
   "execution_count": null,
   "id": "30",
   "metadata": {},
   "outputs": [],
   "source": [
    "boston_listings[boston_listing_col_types['float']].dropna(how='all', axis=1).iloc[-1] # 'host_acceptance_rate'].dropna()"
   ]
  },
  {
   "cell_type": "markdown",
   "id": "31",
   "metadata": {},
   "source": [
    "# Assemble a model\n",
    "- Just realizing that the price is boston_listings doesn't say the date for which that listing is active (unless it is just for the \"last_scraped\" date, but the whole dataset is for a single last_scraped date).\n",
    "- So... that means we can't use the day/week/month info since it would be a constant if we're only modeling a single date.\n",
    "- Using the various categorical variables gives a pretty meh fit."
   ]
  },
  {
   "cell_type": "code",
   "execution_count": null,
   "id": "32",
   "metadata": {},
   "outputs": [],
   "source": [
    "y_label = 'price'\n",
    "\n",
    "categorical_vars_to_use = [\n",
    "    'bathrooms', \n",
    "    'bedrooms', \n",
    "    'beds', \n",
    "    'accommodates', \n",
    "    'property_type', \n",
    "    'room_type', \n",
    "    'cancellation_policy', \n",
    "    'host_identity_verified',\n",
    "]\n",
    "# numeric_vars_to_use = ['square_feet']\n",
    "\n",
    "model_data = pd.concat([\n",
    "    boston_listings[[y_label]],\n",
    "    # boston_listings[numeric_vars_to_use],\n",
    "    pd.get_dummies(boston_listings[categorical_vars_to_use], columns=categorical_vars_to_use, drop_first=True),\n",
    "    pd.get_dummies(boston_listings.neighbourhood_cleansed, drop_first=True),\n",
    "    # pd.get_dummies(boston_calendar.month, drop_first=True),\n",
    "    ], axis=1)\n"
   ]
  },
  {
   "cell_type": "code",
   "execution_count": null,
   "id": "33",
   "metadata": {},
   "outputs": [],
   "source": [
    "# sm.OLS(endog=model_data[y_label], exog=model_data.drop(y_label, axis=1)).fit().summary()"
   ]
  },
  {
   "cell_type": "code",
   "execution_count": null,
   "id": "34",
   "metadata": {},
   "outputs": [],
   "source": [
    "out = estimate_y_from_X(model_data, y_label=y_label, X_labels=list(model_data.drop(y_label, axis=1).columns), train_size=2/3, random_state=42)"
   ]
  },
  {
   "cell_type": "code",
   "execution_count": null,
   "id": "35",
   "metadata": {},
   "outputs": [],
   "source": [
    "boston_calendar.query('available==\"t\"')"
   ]
  },
  {
   "cell_type": "code",
   "execution_count": null,
   "id": "36",
   "metadata": {},
   "outputs": [],
   "source": []
  }
 ],
 "metadata": {
  "kernelspec": {
   "display_name": "Python 3 (ipykernel)",
   "language": "python",
   "name": "python3"
  },
  "language_info": {
   "codemirror_mode": {
    "name": "ipython",
    "version": 3
   },
   "file_extension": ".py",
   "mimetype": "text/x-python",
   "name": "python",
   "nbconvert_exporter": "python",
   "pygments_lexer": "ipython3",
   "version": "3.13.0"
  }
 },
 "nbformat": 4,
 "nbformat_minor": 5
}
