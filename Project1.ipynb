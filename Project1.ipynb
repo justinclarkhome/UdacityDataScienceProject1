{
 "cells": [
  {
   "cell_type": "markdown",
   "id": "1da3b03c-39d0-447c-a7d1-f05518146ba3",
   "metadata": {},
   "source": [
    "# Boston Airbnb Dataset\n",
    "https://www.kaggle.com/datasets/airbnb/boston?resource=download"
   ]
  },
  {
   "cell_type": "markdown",
   "id": "e48d4c94-179f-4fa0-9722-2dc85a7a0c10",
   "metadata": {},
   "source": [
    "# Seatle Airbnb Dataset\n",
    "https://www.kaggle.com/datasets/airbnb/seattle/data"
   ]
  },
  {
   "cell_type": "code",
   "execution_count": null,
   "id": "00b74083-20fb-4cd8-9d89-09ccef576e27",
   "metadata": {},
   "outputs": [],
   "source": []
  }
 ],
 "metadata": {
  "kernelspec": {
   "display_name": "Python 3 (ipykernel)",
   "language": "python",
   "name": "python3"
  },
  "language_info": {
   "codemirror_mode": {
    "name": "ipython",
    "version": 3
   },
   "file_extension": ".py",
   "mimetype": "text/x-python",
   "name": "python",
   "nbconvert_exporter": "python",
   "pygments_lexer": "ipython3",
   "version": "3.11.5"
  }
 },
 "nbformat": 4,
 "nbformat_minor": 5
}
