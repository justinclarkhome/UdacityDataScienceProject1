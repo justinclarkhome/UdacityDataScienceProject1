{
 "cells": [
  {
   "cell_type": "code",
   "execution_count": 2,
   "id": "07e142a4-6871-435f-abaa-864b06fdb5da",
   "metadata": {},
   "outputs": [],
   "source": [
    "import pandas as pd, numpy as np\n",
    "import seaborn as sns\n",
    "import matplotlib.pyplot as plt"
   ]
  },
  {
   "cell_type": "code",
   "execution_count": 20,
   "id": "c3769a09-4121-4115-912b-cc17b779fa07",
   "metadata": {},
   "outputs": [],
   "source": [
    "def get_columns_and_types(df):\n",
    "    print('Types detected:')\n",
    "    print(df.dtypes.unique())\n",
    "    return {\n",
    "        'int': [i for i in df.dtypes if type in [int, np.int64]],\n",
    "        'float': [i for i in df.dtypes if type in [float, np.float64]],\n",
    "        'object': [i for i in df.dtypes if type == 'object'],\n",
    "    }\n"
   ]
  },
  {
   "cell_type": "markdown",
   "id": "1da3b03c-39d0-447c-a7d1-f05518146ba3",
   "metadata": {},
   "source": [
    "# Boston Airbnb Dataset\n",
    "https://www.kaggle.com/datasets/airbnb/boston?resource=download"
   ]
  },
  {
   "cell_type": "code",
   "execution_count": 25,
   "id": "a1f00ca5-7367-46a8-a710-80538fca8b9f",
   "metadata": {},
   "outputs": [],
   "source": [
    "boston_listings = pd.read_csv('./data/airbnb_boston/listings.csv', index_col='id')\n",
    "boston_calendar = pd.read_csv('./data/airbnb_boston/calendar.csv')\n",
    "boston_reviews = pd.read_csv('./data/airbnb_boston/reviews.csv')"
   ]
  },
  {
   "cell_type": "code",
   "execution_count": 26,
   "id": "f517cebd-fe8a-4db5-824c-028efa7b62c9",
   "metadata": {},
   "outputs": [
    {
     "name": "stdout",
     "output_type": "stream",
     "text": [
      "Types detected:\n",
      "[dtype('O') dtype('int64') dtype('float64')]\n"
     ]
    }
   ],
   "source": [
    "boston_listing_col_types = get_columns_and_types(boston_listings)"
   ]
  },
  {
   "cell_type": "code",
   "execution_count": 27,
   "id": "3b0aa671-328b-45d6-a0af-4fe099c58398",
   "metadata": {},
   "outputs": [
    {
     "name": "stdout",
     "output_type": "stream",
     "text": [
      "Types detected:\n",
      "[dtype('int64') dtype('O')]\n"
     ]
    }
   ],
   "source": [
    "boston_calendar_col_types = get_columns_and_types(boston_calendar)"
   ]
  },
  {
   "cell_type": "code",
   "execution_count": 28,
   "id": "15d63950-f91b-42e5-b951-0ecde43a5780",
   "metadata": {},
   "outputs": [
    {
     "name": "stdout",
     "output_type": "stream",
     "text": [
      "Types detected:\n",
      "[dtype('int64') dtype('O')]\n"
     ]
    }
   ],
   "source": [
    "boston_review_col_types = get_columns_and_types(boston_reviews)"
   ]
  },
  {
   "cell_type": "code",
   "execution_count": 83,
   "id": "a61e424c-fff6-445f-a085-d6bf7fd91e73",
   "metadata": {},
   "outputs": [],
   "source": [
    "# convert price column to a float, assuming format of $#.#\n",
    "boston_calendar.price = [float(i.replace('$', '').replace(',', '')) if type(i) is str else i for i in boston_calendar.price]\n",
    "\n",
    "# concert date to a datetime object\n",
    "boston_calendar.date = [pd.Timestamp(i) if type(i) is str else i for i in boston_calendar.date]\n",
    "\n",
    "# add a month, year columns for seasonality analysis\n",
    "boston_calendar['month'] = [i.month for i in boston_calendar.date]\n",
    "boston_calendar['year'] = [i.year for i in boston_calendar.date]"
   ]
  },
  {
   "cell_type": "code",
   "execution_count": 89,
   "id": "17d024f8-050c-447e-a7f4-176f01c47f9c",
   "metadata": {},
   "outputs": [
    {
     "data": {
      "text/html": [
       "<div>\n",
       "<style scoped>\n",
       "    .dataframe tbody tr th:only-of-type {\n",
       "        vertical-align: middle;\n",
       "    }\n",
       "\n",
       "    .dataframe tbody tr th {\n",
       "        vertical-align: top;\n",
       "    }\n",
       "\n",
       "    .dataframe thead th {\n",
       "        text-align: right;\n",
       "    }\n",
       "</style>\n",
       "<table border=\"1\" class=\"dataframe\">\n",
       "  <thead>\n",
       "    <tr style=\"text-align: right;\">\n",
       "      <th></th>\n",
       "      <th>listing_id</th>\n",
       "      <th>date</th>\n",
       "      <th>available</th>\n",
       "      <th>price</th>\n",
       "      <th>year</th>\n",
       "      <th>month</th>\n",
       "    </tr>\n",
       "  </thead>\n",
       "  <tbody>\n",
       "    <tr>\n",
       "      <th>0</th>\n",
       "      <td>12147973</td>\n",
       "      <td>2017-09-05</td>\n",
       "      <td>f</td>\n",
       "      <td>NaN</td>\n",
       "      <td>2017</td>\n",
       "      <td>9</td>\n",
       "    </tr>\n",
       "    <tr>\n",
       "      <th>1</th>\n",
       "      <td>12147973</td>\n",
       "      <td>2017-09-04</td>\n",
       "      <td>f</td>\n",
       "      <td>NaN</td>\n",
       "      <td>2017</td>\n",
       "      <td>9</td>\n",
       "    </tr>\n",
       "    <tr>\n",
       "      <th>2</th>\n",
       "      <td>12147973</td>\n",
       "      <td>2017-09-03</td>\n",
       "      <td>f</td>\n",
       "      <td>NaN</td>\n",
       "      <td>2017</td>\n",
       "      <td>9</td>\n",
       "    </tr>\n",
       "    <tr>\n",
       "      <th>3</th>\n",
       "      <td>12147973</td>\n",
       "      <td>2017-09-02</td>\n",
       "      <td>f</td>\n",
       "      <td>NaN</td>\n",
       "      <td>2017</td>\n",
       "      <td>9</td>\n",
       "    </tr>\n",
       "    <tr>\n",
       "      <th>4</th>\n",
       "      <td>12147973</td>\n",
       "      <td>2017-09-01</td>\n",
       "      <td>f</td>\n",
       "      <td>NaN</td>\n",
       "      <td>2017</td>\n",
       "      <td>9</td>\n",
       "    </tr>\n",
       "  </tbody>\n",
       "</table>\n",
       "</div>"
      ],
      "text/plain": [
       "   listing_id       date available  price  year  month\n",
       "0    12147973 2017-09-05         f    NaN  2017      9\n",
       "1    12147973 2017-09-04         f    NaN  2017      9\n",
       "2    12147973 2017-09-03         f    NaN  2017      9\n",
       "3    12147973 2017-09-02         f    NaN  2017      9\n",
       "4    12147973 2017-09-01         f    NaN  2017      9"
      ]
     },
     "execution_count": 89,
     "metadata": {},
     "output_type": "execute_result"
    }
   ],
   "source": [
    "boston_calendar.head()"
   ]
  },
  {
   "cell_type": "code",
   "execution_count": 92,
   "id": "4b6b5b1f-97aa-43c1-9a24-967a28fed7a3",
   "metadata": {},
   "outputs": [
    {
     "data": {
      "text/plain": [
       "<Axes: xlabel='month', ylabel='price'>"
      ]
     },
     "execution_count": 92,
     "metadata": {},
     "output_type": "execute_result"
    },
    {
     "data": {
      "image/png": "[encoded data removed]",
      "text/plain": [
       "<Figure size 640x480 with 1 Axes>"
      ]
     },
     "metadata": {},
     "output_type": "display_data"
    }
   ],
   "source": [
    "sns.boxplot(\n",
    "    data=boston_calendar.dropna(),\n",
    "    x='month',\n",
    "    y='price',\n",
    ")"
   ]
  },
  {
   "cell_type": "markdown",
   "id": "e48d4c94-179f-4fa0-9722-2dc85a7a0c10",
   "metadata": {},
   "source": [
    "# Seattle Airbnb Dataset\n",
    "https://www.kaggle.com/datasets/airbnb/seattle/data"
   ]
  },
  {
   "cell_type": "code",
   "execution_count": 7,
   "id": "bce4a2d5-d9d6-483c-a073-95312d587745",
   "metadata": {},
   "outputs": [],
   "source": [
    "seattle_listings = pd.read_csv('./data/airbnb_seattle/listings.csv', index_col='id')"
   ]
  },
  {
   "cell_type": "code",
   "execution_count": 21,
   "id": "dc891ed4-562b-417d-930e-acdd83842f1d",
   "metadata": {},
   "outputs": [
    {
     "name": "stdout",
     "output_type": "stream",
     "text": [
      "Types detected:\n",
      "[dtype('O') dtype('int64') dtype('float64')]\n"
     ]
    }
   ],
   "source": [
    "seattle_col_types = get_columns_and_types(seattle_listings)"
   ]
  },
  {
   "cell_type": "markdown",
   "id": "dc102f86-7ac7-453b-8863-b0eda5e0cda7",
   "metadata": {},
   "source": [
    "# Stackoverflow Survey Dataset\n",
    "https://www.kaggle.com/datasets/stackoverflow/so-survey-2017"
   ]
  },
  {
   "cell_type": "code",
   "execution_count": null,
   "id": "a2056c13-fab6-4ec8-8418-7e05c0256c29",
   "metadata": {},
   "outputs": [],
   "source": []
  }
 ],
 "metadata": {
  "kernelspec": {
   "display_name": "Python 3 (ipykernel)",
   "language": "python",
   "name": "python3"
  },
  "language_info": {
   "codemirror_mode": {
    "name": "ipython",
    "version": 3
   },
   "file_extension": ".py",
   "mimetype": "text/x-python",
   "name": "python",
   "nbconvert_exporter": "python",
   "pygments_lexer": "ipython3",
   "version": "3.11.5"
  }
 },
 "nbformat": 4,
 "nbformat_minor": 5
}
