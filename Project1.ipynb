{
 "cells": [
  {
   "cell_type": "code",
   "execution_count": 77,
   "id": "07e142a4-6871-435f-abaa-864b06fdb5da",
   "metadata": {
    "execution": {
     "iopub.execute_input": "2024-11-08T13:03:08.871092Z",
     "iopub.status.busy": "2024-11-08T13:03:08.870547Z",
     "iopub.status.idle": "2024-11-08T13:03:08.876887Z",
     "shell.execute_reply": "2024-11-08T13:03:08.876066Z",
     "shell.execute_reply.started": "2024-11-08T13:03:08.871057Z"
    }
   },
   "outputs": [],
   "source": [
    "import pandas as pd, numpy as np\n",
    "import seaborn as sns\n",
    "import matplotlib.pyplot as plt\n",
    "import re\n",
    "import json\n",
    "import statsmodels.api as sm\n",
    "from sklearn.model_selection import train_test_split\n",
    "from sklearn.metrics import r2_score\n",
    "import plotly.express as px\n",
    "\n",
    "import plotly.io as pio\n",
    "pio.renderers.default = 'iframe'"
   ]
  },
  {
   "cell_type": "code",
   "execution_count": 44,
   "id": "c3769a09-4121-4115-912b-cc17b779fa07",
   "metadata": {
    "execution": {
     "iopub.execute_input": "2024-11-08T12:16:58.151922Z",
     "iopub.status.busy": "2024-11-08T12:16:58.151307Z",
     "iopub.status.idle": "2024-11-08T12:16:58.164725Z",
     "shell.execute_reply": "2024-11-08T12:16:58.164018Z",
     "shell.execute_reply.started": "2024-11-08T12:16:58.151880Z"
    }
   },
   "outputs": [],
   "source": [
    "def get_columns_and_types(df):\n",
    "    print('Types detected:')\n",
    "    print(df.dtypes.unique())\n",
    "    return {\n",
    "        'int': [label for label, dtype in df.dtypes.items() if dtype in [int, np.int64]],\n",
    "        'float': [label for label, dtype in df.dtypes.items() if dtype in [float, np.float64]],\n",
    "        'object': [label for label, dtype in df.dtypes.items() if dtype in ['O', 'object']],\n",
    "    }\n",
    "\n",
    "def convert_dollars_to_float(s, pattern=r\"\\$|,\"):\n",
    "    \"\"\"\n",
    "    convert money-like strings to floats\n",
    "    \"\"\"\n",
    "    if type(s) is str and re.match(pattern, s):\n",
    "        # if the input is a str containing '$' and/or ',' try to remove those chars and covert the result to a float\n",
    "        # if this fails, then there is likely text mixed in (like \"$195 this week only!\")\n",
    "        try:\n",
    "            return float(re.sub(pattern, repl='', string=s))\n",
    "        except:\n",
    "            return s\n",
    "    else:\n",
    "        # otherwise just return the input\n",
    "        return s\n",
    "\n",
    "def estimate_y_from_X(data, y_label, X_labels, train_size=0.6, random_state=42):\n",
    "    if type(X_labels) not in [list, tuple]:\n",
    "        X_labels = [X_labels] # in case we pass a scalar\n",
    "        \n",
    "    # we know that we have data for 'price' in all observations, but not for 'monthly_price' or 'weekly_price'\n",
    "    # drop the nans, create a train/test split, build a model and estimate the monthly, then use the model to fill the missing values in the dataset\n",
    "    reg_data = data[X_labels + [y_label]].dropna()\n",
    "    y = reg_data[y_label]\n",
    "    X = sm.add_constant(reg_data[X_labels])\n",
    "    X_train, X_test, y_train, y_test = train_test_split(X, y, train_size=train_size, random_state=random_state)\n",
    "\n",
    "    print(f'Estimating {y_label}~1+{\"+\".join(X_labels)}')\n",
    "    m = sm.OLS(exog=X_train, endog=y_train).fit()\n",
    "    \n",
    "    print(f'... Train fit: {r2_score(y_true=y_train, y_pred=m.predict(exog=X_train))}')\n",
    "    print(f'... Test fit: {r2_score(y_true=y_test, y_pred=m.predict(exog=X_test))}')\n",
    "    \n",
    "    print(f'... Filling NaNs in {y_label} with estimated data')\n",
    "    missing = data[y_label][data[y_label].isnull()].index\n",
    "    data.loc[missing, y_label] = m.predict(exog=sm.add_constant(data[data[y_label].isnull()][X_labels]))\n",
    "    return data"
   ]
  },
  {
   "cell_type": "markdown",
   "id": "1da3b03c-39d0-447c-a7d1-f05518146ba3",
   "metadata": {},
   "source": [
    "# Boston Airbnb Dataset\n",
    "https://www.kaggle.com/datasets/airbnb/boston?resource=download\n",
    "\n",
    "Possible questions:\n",
    "- Are there seasonal pattern to the month (or time of time)?\n",
    "- Is there a seasonal pattern to <time> and location?\n",
    "- Can we fit a penalized regression model to predict price given <X>?\n",
    "- Can we show an animated map of Boston, showing average price per zip over time?"
   ]
  },
  {
   "cell_type": "code",
   "execution_count": 45,
   "id": "a1f00ca5-7367-46a8-a710-80538fca8b9f",
   "metadata": {
    "execution": {
     "iopub.execute_input": "2024-11-08T12:17:04.896808Z",
     "iopub.status.busy": "2024-11-08T12:17:04.896327Z",
     "iopub.status.idle": "2024-11-08T12:17:05.440960Z",
     "shell.execute_reply": "2024-11-08T12:17:05.440718Z",
     "shell.execute_reply.started": "2024-11-08T12:17:04.896774Z"
    }
   },
   "outputs": [
    {
     "name": "stdout",
     "output_type": "stream",
     "text": [
      "Estimating monthly_price~1+price\n",
      "... Train fit: 0.7541200119650564\n",
      "... Test fit: 0.7023480777981016\n",
      "... Filling NaNs in monthly_price with estimated data\n",
      "Estimating weekly_price~1+price\n",
      "... Train fit: 0.8616937710787316\n",
      "... Test fit: 0.8204677405118834\n",
      "... Filling NaNs in weekly_price with estimated data\n"
     ]
    }
   ],
   "source": [
    "boston_listings = pd.read_csv('./data/airbnb_boston/listings.csv', index_col='id')\n",
    "boston_calendar = pd.read_csv('./data/airbnb_boston/calendar.csv')\n",
    "boston_reviews = pd.read_csv('./data/airbnb_boston/reviews.csv')\n",
    "\n",
    "boston_listings = boston_listings.map(convert_dollars_to_float)\n",
    "boston_calendar = boston_calendar.apply(convert_dollars_to_float)\n",
    "boston_reviews = boston_reviews.apply(convert_dollars_to_float)\n",
    "\n",
    "boston_listings = estimate_y_from_X(data=boston_listings, y_label='monthly_price', X_labels='price')\n",
    "boston_listings = estimate_y_from_X(data=boston_listings, y_label='weekly_price', X_labels='price')"
   ]
  },
  {
   "cell_type": "code",
   "execution_count": 46,
   "id": "f517cebd-fe8a-4db5-824c-028efa7b62c9",
   "metadata": {
    "execution": {
     "iopub.execute_input": "2024-11-08T12:17:05.441614Z",
     "iopub.status.busy": "2024-11-08T12:17:05.441541Z",
     "iopub.status.idle": "2024-11-08T12:17:05.444000Z",
     "shell.execute_reply": "2024-11-08T12:17:05.443818Z",
     "shell.execute_reply.started": "2024-11-08T12:17:05.441608Z"
    }
   },
   "outputs": [
    {
     "name": "stdout",
     "output_type": "stream",
     "text": [
      "Types detected:\n",
      "[dtype('O') dtype('int64') dtype('float64')]\n"
     ]
    },
    {
     "data": {
      "text/plain": [
       "{'int': ['scrape_id',\n",
       "  'host_id',\n",
       "  'host_listings_count',\n",
       "  'host_total_listings_count',\n",
       "  'accommodates',\n",
       "  'guests_included',\n",
       "  'minimum_nights',\n",
       "  'maximum_nights',\n",
       "  'availability_30',\n",
       "  'availability_60',\n",
       "  'availability_90',\n",
       "  'availability_365',\n",
       "  'number_of_reviews',\n",
       "  'calculated_host_listings_count'],\n",
       " 'float': ['neighbourhood_group_cleansed',\n",
       "  'latitude',\n",
       "  'longitude',\n",
       "  'bathrooms',\n",
       "  'bedrooms',\n",
       "  'beds',\n",
       "  'square_feet',\n",
       "  'price',\n",
       "  'weekly_price',\n",
       "  'monthly_price',\n",
       "  'security_deposit',\n",
       "  'cleaning_fee',\n",
       "  'extra_people',\n",
       "  'has_availability',\n",
       "  'review_scores_rating',\n",
       "  'review_scores_accuracy',\n",
       "  'review_scores_cleanliness',\n",
       "  'review_scores_checkin',\n",
       "  'review_scores_communication',\n",
       "  'review_scores_location',\n",
       "  'review_scores_value',\n",
       "  'license',\n",
       "  'jurisdiction_names',\n",
       "  'reviews_per_month'],\n",
       " 'object': ['listing_url',\n",
       "  'last_scraped',\n",
       "  'name',\n",
       "  'summary',\n",
       "  'space',\n",
       "  'description',\n",
       "  'experiences_offered',\n",
       "  'neighborhood_overview',\n",
       "  'notes',\n",
       "  'transit',\n",
       "  'access',\n",
       "  'interaction',\n",
       "  'house_rules',\n",
       "  'thumbnail_url',\n",
       "  'medium_url',\n",
       "  'picture_url',\n",
       "  'xl_picture_url',\n",
       "  'host_url',\n",
       "  'host_name',\n",
       "  'host_since',\n",
       "  'host_location',\n",
       "  'host_about',\n",
       "  'host_response_time',\n",
       "  'host_response_rate',\n",
       "  'host_acceptance_rate',\n",
       "  'host_is_superhost',\n",
       "  'host_thumbnail_url',\n",
       "  'host_picture_url',\n",
       "  'host_neighbourhood',\n",
       "  'host_verifications',\n",
       "  'host_has_profile_pic',\n",
       "  'host_identity_verified',\n",
       "  'street',\n",
       "  'neighbourhood',\n",
       "  'neighbourhood_cleansed',\n",
       "  'city',\n",
       "  'state',\n",
       "  'zipcode',\n",
       "  'market',\n",
       "  'smart_location',\n",
       "  'country_code',\n",
       "  'country',\n",
       "  'is_location_exact',\n",
       "  'property_type',\n",
       "  'room_type',\n",
       "  'bed_type',\n",
       "  'amenities',\n",
       "  'calendar_updated',\n",
       "  'calendar_last_scraped',\n",
       "  'first_review',\n",
       "  'last_review',\n",
       "  'requires_license',\n",
       "  'instant_bookable',\n",
       "  'cancellation_policy',\n",
       "  'require_guest_profile_picture',\n",
       "  'require_guest_phone_verification']}"
      ]
     },
     "execution_count": 46,
     "metadata": {},
     "output_type": "execute_result"
    }
   ],
   "source": [
    "boston_listing_col_types = get_columns_and_types(boston_listings)\n",
    "boston_listing_col_types"
   ]
  },
  {
   "cell_type": "markdown",
   "id": "cdf3755c-3643-4d17-b521-7012c6f58234",
   "metadata": {
    "execution": {
     "iopub.execute_input": "2024-11-08T15:58:03.103441Z",
     "iopub.status.busy": "2024-11-08T15:58:03.101799Z",
     "iopub.status.idle": "2024-11-08T15:58:03.108852Z",
     "shell.execute_reply": "2024-11-08T15:58:03.107483Z",
     "shell.execute_reply.started": "2024-11-08T15:58:03.103400Z"
    }
   },
   "source": [
    "# Add a choropleth (geographical map) and overlay the listings prices from the dataset.\n",
    "- Thank you for the geojson data: https://github.com/codeforgermany/click_that_hood/blob/main/public/data/boston.geojson?short_path=46589b4\n",
    "- Use log scale for the prices (so the colorbar isn't too compressed) - or change the scale of the colorbar.\n",
    "- "
   ]
  },
  {
   "cell_type": "code",
   "execution_count": 179,
   "id": "5abf9471-4183-412e-a5b8-b4902ef434b8",
   "metadata": {
    "execution": {
     "iopub.execute_input": "2024-11-09T13:00:00.741429Z",
     "iopub.status.busy": "2024-11-09T13:00:00.740987Z",
     "iopub.status.idle": "2024-11-09T13:00:00.749392Z",
     "shell.execute_reply": "2024-11-09T13:00:00.748739Z",
     "shell.execute_reply.started": "2024-11-09T13:00:00.741406Z"
    }
   },
   "outputs": [
    {
     "data": {
      "text/plain": [
       "array([  85. ,  150. ,  221.5, 4000. ])"
      ]
     },
     "execution_count": 179,
     "metadata": {},
     "output_type": "execute_result"
    }
   ],
   "source": [
    "colorbar=dict(title=‘Price’,\n",
    "tickvals= color_vals,\n",
    "ticktext= color_names),"
   ]
  },
  {
   "cell_type": "code",
   "execution_count": 193,
   "id": "471fa2c5-ae5f-43bd-84ce-54a3c0f0a146",
   "metadata": {
    "execution": {
     "iopub.execute_input": "2024-11-09T13:08:54.648045Z",
     "iopub.status.busy": "2024-11-09T13:08:54.647292Z",
     "iopub.status.idle": "2024-11-09T13:08:54.662789Z",
     "shell.execute_reply": "2024-11-09T13:08:54.661996Z",
     "shell.execute_reply.started": "2024-11-09T13:08:54.647994Z"
    }
   },
   "outputs": [
    {
     "data": {
      "text/html": [
       "<div>\n",
       "<style scoped>\n",
       "    .dataframe tbody tr th:only-of-type {\n",
       "        vertical-align: middle;\n",
       "    }\n",
       "\n",
       "    .dataframe tbody tr th {\n",
       "        vertical-align: top;\n",
       "    }\n",
       "\n",
       "    .dataframe thead th {\n",
       "        text-align: right;\n",
       "    }\n",
       "</style>\n",
       "<table border=\"1\" class=\"dataframe\">\n",
       "  <thead>\n",
       "    <tr style=\"text-align: right;\">\n",
       "      <th></th>\n",
       "      <th>price</th>\n",
       "      <th>log_price</th>\n",
       "    </tr>\n",
       "  </thead>\n",
       "  <tbody>\n",
       "    <tr>\n",
       "      <th>0.25</th>\n",
       "      <td>85.0</td>\n",
       "      <td>4.442651</td>\n",
       "    </tr>\n",
       "    <tr>\n",
       "      <th>0.50</th>\n",
       "      <td>150.0</td>\n",
       "      <td>5.010635</td>\n",
       "    </tr>\n",
       "    <tr>\n",
       "      <th>0.75</th>\n",
       "      <td>221.5</td>\n",
       "      <td>5.400400</td>\n",
       "    </tr>\n",
       "    <tr>\n",
       "      <th>1.00</th>\n",
       "      <td>4000.0</td>\n",
       "      <td>8.294050</td>\n",
       "    </tr>\n",
       "  </tbody>\n",
       "</table>\n",
       "</div>"
      ],
      "text/plain": [
       "       price  log_price\n",
       "0.25    85.0   4.442651\n",
       "0.50   150.0   5.010635\n",
       "0.75   221.5   5.400400\n",
       "1.00  4000.0   8.294050"
      ]
     },
     "execution_count": 193,
     "metadata": {},
     "output_type": "execute_result"
    }
   ],
   "source": [
    "plot_data[['price', 'log_price']].quantile([0.25, 0.5, 0.750, 1.0])"
   ]
  },
  {
   "cell_type": "code",
   "execution_count": 220,
   "id": "a2858597-c4d1-4b61-b5ed-d58552c887f6",
   "metadata": {
    "execution": {
     "iopub.execute_input": "2024-11-09T13:22:51.562636Z",
     "iopub.status.busy": "2024-11-09T13:22:51.562006Z",
     "iopub.status.idle": "2024-11-09T13:22:51.700796Z",
     "shell.execute_reply": "2024-11-09T13:22:51.700532Z",
     "shell.execute_reply.started": "2024-11-09T13:22:51.562596Z"
    }
   },
   "outputs": [
    {
     "data": {
      "text/html": [
       "<iframe\n",
       "    scrolling=\"no\"\n",
       "    width=\"100%\"\n",
       "    height=\"545px\"\n",
       "    src=\"iframe_figures/figure_220.html\"\n",
       "    frameborder=\"0\"\n",
       "    allowfullscreen\n",
       "></iframe>\n"
      ]
     },
     "metadata": {},
     "output_type": "display_data"
    }
   ],
   "source": [
    "# geoplot of neighborhoods with listings overlaid\n",
    "with open('./data/airbnb_boston/boston.geojson', 'r') as f:\n",
    "    geojson = json.load(f)\n",
    "    \n",
    "df = {'name': [i['properties']['name'] for i in geojson['features']]}\n",
    "plot_data = boston_listings[['latitude', 'longitude', 'zipcode', 'price']].dropna()\n",
    "plot_data['log_price'] = plot_data['price'].apply(np.log)\n",
    "\n",
    "fig = px.choropleth(\n",
    "    data_frame=df, \n",
    "    geojson=geojson, \n",
    "    locations='name', \n",
    "    featureidkey=\"properties.name\",\n",
    "    title='Boston Neighborhoods and Airbnb Prices<br>Colorbar is Log Scale'\n",
    ")\n",
    "fig.update_geos(fitbounds=\"locations\", visible=False) \n",
    "\n",
    "fig.add_trace(\n",
    "    px.scatter_geo(\n",
    "        data_frame=plot_data, \n",
    "        lat='latitude', \n",
    "        lon='longitude', \n",
    "        color='log_price',\n",
    "        hover_data={\n",
    "            'latitude': ':.2f', \n",
    "            'longitude': ':.2f', \n",
    "            'price': ':.2f', \n",
    "            'log_price': ':.2f',\n",
    "        },\n",
    "    ).data[0])\n",
    "\n",
    "# relabel the colorbar (as showing log values is confusing)\n",
    "fig.update_coloraxes(colorbar={\n",
    "    'title': 'Price',\n",
    "    'tickvals': plot_data['log_price'].quantile([0.01, 0.999]).values,\n",
    "    'ticktext': ['Cheaper', 'Pricier'],\n",
    "})\n",
    "fig.update_layout(showlegend=False)\n",
    "\n",
    "fig.show()"
   ]
  },
  {
   "cell_type": "markdown",
   "id": "0719d898-56d1-4db0-b13c-002add3ce8b2",
   "metadata": {},
   "source": [
    "# there are no empty 'price' values, but there are empty weekly_price/monthly_price values\n",
    "- We can ignore weekly_price/monthly_price and just work with price, or we can estimate the missing values with regression"
   ]
  },
  {
   "cell_type": "code",
   "execution_count": null,
   "id": "99a39e88-d664-440c-bbff-5bfb079917fd",
   "metadata": {},
   "outputs": [],
   "source": [
    "boston_listings[['price', 'weekly_price', 'monthly_price', 'zipcode']].dropna().groupby('zipcode').mean().sort_values('price')"
   ]
  },
  {
   "cell_type": "code",
   "execution_count": null,
   "id": "3b0aa671-328b-45d6-a0af-4fe099c58398",
   "metadata": {},
   "outputs": [],
   "source": [
    "boston_calendar_col_types = get_columns_and_types(boston_calendar)\n",
    "boston_calendar_col_types"
   ]
  },
  {
   "cell_type": "code",
   "execution_count": null,
   "id": "15d63950-f91b-42e5-b951-0ecde43a5780",
   "metadata": {},
   "outputs": [],
   "source": [
    "boston_review_col_types = get_columns_and_types(boston_reviews)\n",
    "boston_review_col_types"
   ]
  },
  {
   "cell_type": "code",
   "execution_count": null,
   "id": "ad0d6d1b-ccf9-4cc6-bdf0-4be827a0aca5",
   "metadata": {},
   "outputs": [],
   "source": [
    "boston_listings[boston_listing_col_types['int']].sort_index()"
   ]
  },
  {
   "cell_type": "code",
   "execution_count": null,
   "id": "e1f2841a-c874-47a8-9c28-3ab2f5f27bbc",
   "metadata": {},
   "outputs": [],
   "source": []
  },
  {
   "cell_type": "code",
   "execution_count": null,
   "id": "e1b13f8a-3f57-4cdd-9c89-115ba52f47e3",
   "metadata": {},
   "outputs": [],
   "source": [
    "\n",
    "\n"
   ]
  },
  {
   "cell_type": "code",
   "execution_count": null,
   "id": "773cbb4e-19a1-4e3a-8990-d71a8be0b223",
   "metadata": {},
   "outputs": [],
   "source": []
  },
  {
   "cell_type": "code",
   "execution_count": null,
   "id": "f4a76aa1-cb1e-4814-a0f0-f9995910bd18",
   "metadata": {},
   "outputs": [],
   "source": []
  },
  {
   "cell_type": "code",
   "execution_count": null,
   "id": "f722736f-508e-43e8-bd10-f95e35838ad5",
   "metadata": {},
   "outputs": [],
   "source": []
  },
  {
   "cell_type": "code",
   "execution_count": null,
   "id": "8fa209b8-8092-4fd5-b110-509e6870b51a",
   "metadata": {},
   "outputs": [],
   "source": []
  },
  {
   "cell_type": "code",
   "execution_count": null,
   "id": "3eb52a8c-153c-4bf8-8dfd-0c8c20cf3b92",
   "metadata": {},
   "outputs": [],
   "source": [
    "boston_listings[boston_listing_col_types['float']].sort_index().dropna(how='all', axis=1)"
   ]
  },
  {
   "cell_type": "code",
   "execution_count": null,
   "id": "59a2e3e5-c2b4-478f-a2bc-c30e737bc810",
   "metadata": {},
   "outputs": [],
   "source": [
    "sns.scatterplot(\n",
    "    data=boston_listings[['price', 'square_feet']].dropna(),\n",
    "    x='square_feet', y='price')"
   ]
  },
  {
   "cell_type": "code",
   "execution_count": null,
   "id": "0f16588a-87ad-42ba-a80e-36b1378e2853",
   "metadata": {},
   "outputs": [],
   "source": [
    "sns.pairplot(\n",
    "    boston_listings[boston_listing_col_types['float']].sort_index().dropna(how='all', axis=1) \\\n",
    "        .drop(['latitude', 'longitude', 'weekly_price', 'monthly_price'], axis=1)\n",
    ")"
   ]
  },
  {
   "cell_type": "code",
   "execution_count": null,
   "id": "0cfc25a8-55a9-4d6c-9d0c-7a7b361afc60",
   "metadata": {},
   "outputs": [],
   "source": [
    "boston_calendar[boston_calendar.price.isnull()]"
   ]
  },
  {
   "cell_type": "code",
   "execution_count": null,
   "id": "e903c2fc-b869-479e-a9c2-c88bb02cd307",
   "metadata": {},
   "outputs": [],
   "source": [
    "boston_calendar[boston_calendar.price.notnull()]"
   ]
  },
  {
   "cell_type": "code",
   "execution_count": null,
   "id": "a61e424c-fff6-445f-a085-d6bf7fd91e73",
   "metadata": {},
   "outputs": [],
   "source": [
    "# convert price column to a float, assuming format of $#.#\n",
    "boston_calendar.price = [float(i.replace('$', '').replace(',', '')) if type(i) is str else i for i in boston_calendar.price]\n",
    "\n",
    "# concert date to a datetime object\n",
    "boston_calendar.date = [pd.Timestamp(i) if type(i) is str else i for i in boston_calendar.date]\n",
    "\n",
    "# add a month, year columns for seasonality analysis\n",
    "boston_calendar['month'] = [i.month for i in boston_calendar.date]\n",
    "boston_calendar['year'] = [i.year for i in boston_calendar.date]"
   ]
  },
  {
   "cell_type": "code",
   "execution_count": null,
   "id": "4b6b5b1f-97aa-43c1-9a24-967a28fed7a3",
   "metadata": {},
   "outputs": [],
   "source": [
    "sns.boxplot(\n",
    "    data=boston_calendar.dropna(),\n",
    "    x='month',\n",
    "    y='price',\n",
    ")"
   ]
  },
  {
   "cell_type": "markdown",
   "id": "e48d4c94-179f-4fa0-9722-2dc85a7a0c10",
   "metadata": {},
   "source": [
    "# Seattle Airbnb Dataset\n",
    "https://www.kaggle.com/datasets/airbnb/seattle/data"
   ]
  },
  {
   "cell_type": "code",
   "execution_count": null,
   "id": "bce4a2d5-d9d6-483c-a073-95312d587745",
   "metadata": {},
   "outputs": [],
   "source": [
    "seattle_listings = pd.read_csv('./data/airbnb_seattle/listings.csv', index_col='id')"
   ]
  },
  {
   "cell_type": "code",
   "execution_count": null,
   "id": "dc891ed4-562b-417d-930e-acdd83842f1d",
   "metadata": {},
   "outputs": [],
   "source": [
    "seattle_col_types = get_columns_and_types(seattle_listings)"
   ]
  },
  {
   "cell_type": "markdown",
   "id": "dc102f86-7ac7-453b-8863-b0eda5e0cda7",
   "metadata": {},
   "source": [
    "# Stackoverflow Survey Dataset\n",
    "https://www.kaggle.com/datasets/stackoverflow/so-survey-2017"
   ]
  },
  {
   "cell_type": "code",
   "execution_count": null,
   "id": "a2056c13-fab6-4ec8-8418-7e05c0256c29",
   "metadata": {},
   "outputs": [],
   "source": []
  }
 ],
 "metadata": {
  "kernelspec": {
   "display_name": "Python 3 (ipykernel)",
   "language": "python",
   "name": "python3"
  },
  "language_info": {
   "codemirror_mode": {
    "name": "ipython",
    "version": 3
   },
   "file_extension": ".py",
   "mimetype": "text/x-python",
   "name": "python",
   "nbconvert_exporter": "python",
   "pygments_lexer": "ipython3",
   "version": "3.11.5"
  }
 },
 "nbformat": 4,
 "nbformat_minor": 5
}
