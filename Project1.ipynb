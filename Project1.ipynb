{
 "cells": [
  {
   "cell_type": "code",
   "execution_count": 1,
   "id": "07e142a4-6871-435f-abaa-864b06fdb5da",
   "metadata": {
    "execution": {
     "iopub.execute_input": "2024-11-11T22:19:13.638971Z",
     "iopub.status.busy": "2024-11-11T22:19:13.637958Z",
     "iopub.status.idle": "2024-11-11T22:19:14.626741Z",
     "shell.execute_reply": "2024-11-11T22:19:14.626505Z",
     "shell.execute_reply.started": "2024-11-11T22:19:13.638926Z"
    }
   },
   "outputs": [],
   "source": [
    "import pandas as pd, numpy as np\n",
    "import seaborn as sns\n",
    "import matplotlib.pyplot as plt\n",
    "import re\n",
    "import json\n",
    "from datetime import datetime as dt\n",
    "import statsmodels.api as sm\n",
    "from sklearn.model_selection import train_test_split\n",
    "from sklearn.metrics import r2_score\n",
    "from sklearn.neighbors import KNeighborsClassifier\n",
    "import plotly.express as px\n",
    "from math import radians # to convert latitude/longitude\n",
    "\n",
    "import plotly.io as pio\n",
    "pio.renderers.default = 'iframe'"
   ]
  },
  {
   "cell_type": "markdown",
   "id": "1da3b03c-39d0-447c-a7d1-f05518146ba3",
   "metadata": {},
   "source": [
    "# Boston Airbnb Dataset\n",
    "https://www.kaggle.com/datasets/airbnb/boston?resource=download\n",
    "\n",
    "Three questions/topics to explore:\n",
    "- How does **geography** inlfuence Airbnb prices in Boston?\n",
    "    - What areas/zip codes/neighborhoods are more expensive than others?\n",
    "- How do **property characteristics** influence Airbnb prices in Boston?\n",
    "    - Number of bathrooms, bedrooms, beds, square footage, reviews, etc.\n",
    "- How does **time (seasonality)** influence Airbnb prices in Boston?\n",
    "    - Period of the week (days), period of the month (weeks), period of the year (months)?\n",
    "    - We only have about 2 years of data to work with, but we'll see what comes out."
   ]
  },
  {
   "cell_type": "code",
   "execution_count": 2,
   "id": "c3769a09-4121-4115-912b-cc17b779fa07",
   "metadata": {
    "execution": {
     "iopub.execute_input": "2024-11-11T22:19:15.520819Z",
     "iopub.status.busy": "2024-11-11T22:19:15.520312Z",
     "iopub.status.idle": "2024-11-11T22:19:15.538409Z",
     "shell.execute_reply": "2024-11-11T22:19:15.537944Z",
     "shell.execute_reply.started": "2024-11-11T22:19:15.520790Z"
    }
   },
   "outputs": [],
   "source": [
    "def get_columns_and_types(df):\n",
    "    print(f'Types detected: {\", \".join([str(i) for i in df.dtypes.unique()])}')\n",
    "    return {\n",
    "        'int': [label for label, dtype in df.dtypes.items() if dtype in [int, np.int64]],\n",
    "        'float': [label for label, dtype in df.dtypes.items() if dtype in [float, np.float64]],\n",
    "        'object': [label for label, dtype in df.dtypes.items() if dtype in ['O', 'object']],\n",
    "    }\n",
    "\n",
    "\n",
    "def convert_dollars_to_float(s, pattern=r\"\\$|,\"):\n",
    "    \"\"\"\n",
    "    convert money-like strings to floats\n",
    "    \"\"\"\n",
    "    if type(s) is str and re.match(pattern, s):\n",
    "        # if the input is a str containing '$' and/or ',' try to remove those chars and covert the result to a float\n",
    "        # if this fails, then there is likely text mixed in (like \"$195 this week only!\")\n",
    "        try:\n",
    "            return float(re.sub(pattern, repl='', string=s))\n",
    "        except:\n",
    "            return s\n",
    "    else:\n",
    "        # otherwise just return the input\n",
    "        return s\n",
    "\n",
    "\n",
    "def estimate_y_from_X(data, y_label, X_labels, train_size=0.6, random_state=42, add_constant=True):\n",
    "    if type(X_labels) not in [list, tuple]:\n",
    "        X_labels = [X_labels] # in case we pass a scalar\n",
    "        \n",
    "    # we know that we have data for 'price' in all observations, but not for 'monthly_price' or 'weekly_price'\n",
    "    # drop the nans, create a train/test split, build a model and estimate the monthly, then use the model to fill the missing values in the dataset\n",
    "    reg_data = data[X_labels + [y_label]].dropna()\n",
    "    y = reg_data[y_label]\n",
    "    X = reg_data[X_labels]\n",
    "    if add_constant:\n",
    "        X = sm.add_constant(reg_data[X_labels])\n",
    "    X_train, X_test, y_train, y_test = train_test_split(X, y, train_size=train_size, random_state=random_state)\n",
    "\n",
    "    print(f'Estimating {y_label}~1+{\"+\".join(X_labels)}')\n",
    "    m = sm.OLS(exog=X_train, endog=y_train).fit()\n",
    "    \n",
    "    print(f'... Train fit: {r2_score(y_true=y_train, y_pred=m.predict(exog=X_train)):.2f}')\n",
    "    print(f'... Test fit: {r2_score(y_true=y_test, y_pred=m.predict(exog=X_test)):.2f}')\n",
    "    \n",
    "    print(f'... Filling NaNs in {y_label} with estimated data')\n",
    "    missing = data[y_label][data[y_label].isnull()].index\n",
    "    if add_constant:\n",
    "        data.loc[missing, y_label] = m.predict(exog=sm.add_constant(data[data[y_label].isnull()][X_labels]))\n",
    "    else:\n",
    "        data.loc[missing, y_label] = m.predict(exog=data[data[y_label].isnull()][X_labels])\n",
    "    \n",
    "    return {\n",
    "        'filled_data': data,\n",
    "        'model': m,\n",
    "        'X_train': X_train, \n",
    "        'X_test': X_test, \n",
    "        'y_train': y_train,\n",
    "        'y_test': y_test,\n",
    "    }\n",
    "\n",
    "\n",
    "def convert_percentages_to_float(s):\n",
    "    \"\"\"\n",
    "    Take in a value, and if it is a string ending with a percent side, strip the percent sign and return a float. \n",
    "    If the conversion fails, return the original value.\n",
    "    \"\"\"\n",
    "    if type(s) is str and s.endswith('%'):\n",
    "        try:\n",
    "            return float(s.strip('%'))\n",
    "        except:\n",
    "            return s\n",
    "    else:\n",
    "        return s\n",
    "\n",
    "def convert_string_date_to_dt(s):\n",
    "    \"\"\"\n",
    "    Take in a value, and if it is a string that looks like a date in YYYY-MM-DD format, convert it to a datetime object.\n",
    "    If the conversion fails, return the original value.\n",
    "    \"\"\"\n",
    "    try:\n",
    "        return dt.strptime(s, '%Y-%m-%d')\n",
    "    except:\n",
    "        return s\n",
    "\n",
    "        \n",
    "def get_cleaned_zipcodes(data):\n",
    "    \"\"\"\n",
    "    Scan over the values of 'zipcodes' in the data, and isolate those that are 5 characters long, with other values\n",
    "    return as NaN. This dataset is pretty clean with zips, but there's at least 1 entry where the zip is more than 10 digits.\n",
    "    Store the cleaned values as 'zipcode_cleaned'. Note that if the 'zipcode_cleaned' field is aready in data, it will be dropped \n",
    "    and recalculated.\n",
    "\n",
    "    The 'zipcode_cleaned' field - including the nans - will be used later to feed into a classifier (to get estimates for the nans \n",
    "    based on latitude and longitude).\n",
    "    \"\"\"\n",
    "    if 'zipcode_cleaned' in data:\n",
    "        data = data.drop('zipcode_cleaned', axis=1)\n",
    "\n",
    "    new_zipcodes = []\n",
    "    for k, v in data['zipcode'].items():\n",
    "        if pd.isnull(v) or type(v) is str and len(v) != 5:\n",
    "            new_zipcodes.append(np.nan)\n",
    "        else:\n",
    "            new_zipcodes.append(str(v))\n",
    "    data = pd.concat([\n",
    "        data,\n",
    "        pd.Series(index=data.index, data=new_zipcodes).to_frame('zipcode_cleaned').astype('Int64'),\n",
    "    ], axis=1)\n",
    "    return data\n",
    "    \n",
    "\n",
    "def classify_y_based_on_X(data, y_label, X_labels, train_size=0.6, random_state=42):\n",
    "    \"\"\"\n",
    "    Wrapped for a K nearest neighbor classifier, that will estimate categories contained in y_label column of data, \n",
    "    using the variables contained in X labels columns of data.\n",
    "    \"\"\"\n",
    "\n",
    "    if type(X_labels) is str:\n",
    "        X_labels = [X_labels]\n",
    "    \n",
    "    knn_data = data[[y_label] + X_labels].dropna()\n",
    "    y = knn_data[y_label]\n",
    "    X = knn_data[X_labels]    \n",
    "    X_train, X_test, y_train, y_test = train_test_split(X, y, train_size=train_size, random_state=random_state)\n",
    "    \n",
    "    print(f'Estimating {y_label} labels from {\"+\".join(X_labels)}')\n",
    "    m_knn = KNeighborsClassifier()\n",
    "    m_knn.fit(X_train, y_train)\n",
    "    \n",
    "    print(f'... Train fit: {m_knn.score(X_train, y_train):.2f}')\n",
    "    print(f'... Test fit: {m_knn.score(X_test, y_test):.2f}')\n",
    "    \n",
    "    print(f'... Filling NaNs in {y_label} with estimated data')\n",
    "    missing = data[y_label][data[y_label].isnull()].index\n",
    "    data.loc[missing, y_label] = m_knn.predict(data[data[y_label].isnull()][X_labels])\n",
    "    \n",
    "    return {\n",
    "        'filled_data': data,\n",
    "        'model': m_knn,\n",
    "        'X_train': X_train, \n",
    "        'X_test': X_test, \n",
    "        'y_train': y_train,\n",
    "        'y_test': y_test,\n",
    "    }\n"
   ]
  },
  {
   "cell_type": "markdown",
   "id": "2828ec42-6732-465b-b859-48f59a6c8eae",
   "metadata": {},
   "source": [
    "# First, load and clean the data"
   ]
  },
  {
   "cell_type": "code",
   "execution_count": 3,
   "id": "a1f00ca5-7367-46a8-a710-80538fca8b9f",
   "metadata": {
    "execution": {
     "iopub.execute_input": "2024-11-11T22:19:20.474212Z",
     "iopub.status.busy": "2024-11-11T22:19:20.473491Z",
     "iopub.status.idle": "2024-11-11T22:19:28.279549Z",
     "shell.execute_reply": "2024-11-11T22:19:28.279300Z",
     "shell.execute_reply.started": "2024-11-11T22:19:20.474170Z"
    }
   },
   "outputs": [
    {
     "name": "stdout",
     "output_type": "stream",
     "text": [
      "Estimating monthly_price~1+price\n",
      "... Train fit: 0.75\n",
      "... Test fit: 0.70\n",
      "... Filling NaNs in monthly_price with estimated data\n",
      "Estimating weekly_price~1+price\n",
      "... Train fit: 0.86\n",
      "... Test fit: 0.82\n",
      "... Filling NaNs in weekly_price with estimated data\n",
      "Estimating zipcode_cleaned labels from latitude+longitude\n",
      "... Train fit: 0.93\n",
      "... Test fit: 0.90\n",
      "... Filling NaNs in zipcode_cleaned with estimated data\n"
     ]
    }
   ],
   "source": [
    "boston_listings = pd.read_csv('./data/airbnb_boston/listings.csv', index_col='id')\n",
    "boston_calendar = pd.read_csv('./data/airbnb_boston/calendar.csv')\n",
    "boston_reviews = pd.read_csv('./data/airbnb_boston/reviews.csv')\n",
    "\n",
    "boston_listings = boston_listings.map(convert_dollars_to_float).map(convert_percentages_to_float).map(convert_string_date_to_dt)\n",
    "boston_calendar = boston_calendar.apply(convert_dollars_to_float).map(convert_percentages_to_float).map(convert_string_date_to_dt)\n",
    "boston_reviews = boston_reviews.apply(convert_dollars_to_float).map(convert_percentages_to_float).map(convert_string_date_to_dt)\n",
    "\n",
    "# estimate missing monthly_price/weekly_price fields using regression (based on price field)\n",
    "boston_listings = estimate_y_from_X(data=boston_listings, y_label='monthly_price', X_labels='price')['filled_data']\n",
    "boston_listings = estimate_y_from_X(data=boston_listings, y_label='weekly_price', X_labels='price')['filled_data']\n",
    "\n",
    "# estimate missing zip codes using KNN classification (based on latitude and longitude)\n",
    "boston_listings = classify_y_based_on_X(\n",
    "    data=get_cleaned_zipcodes(boston_listings), y_label='zipcode_cleaned', X_labels=['latitude', 'longitude'])['filled_data']"
   ]
  },
  {
   "cell_type": "code",
   "execution_count": 4,
   "id": "f517cebd-fe8a-4db5-824c-028efa7b62c9",
   "metadata": {
    "execution": {
     "iopub.execute_input": "2024-11-11T22:19:29.262534Z",
     "iopub.status.busy": "2024-11-11T22:19:29.262028Z",
     "iopub.status.idle": "2024-11-11T22:19:29.272642Z",
     "shell.execute_reply": "2024-11-11T22:19:29.271737Z",
     "shell.execute_reply.started": "2024-11-11T22:19:29.262506Z"
    }
   },
   "outputs": [
    {
     "name": "stdout",
     "output_type": "stream",
     "text": [
      "Types detected: object, int64, datetime64[ns], float64, Int64\n",
      "Types detected: int64, datetime64[ns], object\n",
      "Types detected: int64, datetime64[ns], object\n"
     ]
    }
   ],
   "source": [
    "# identify column types\n",
    "boston_listing_col_types = get_columns_and_types(boston_listings)\n",
    "boston_calendar_col_types = get_columns_and_types(boston_calendar)\n",
    "boston_review_col_types = get_columns_and_types(boston_reviews)\n",
    "# boston_listing_col_types"
   ]
  },
  {
   "cell_type": "markdown",
   "id": "e626ff5f-a6f6-4a81-9f41-34e7f6f10c4b",
   "metadata": {},
   "source": [
    "# Question 1: How does geography influence Airbnb rental prices?"
   ]
  },
  {
   "cell_type": "markdown",
   "id": "cdf3755c-3643-4d17-b521-7012c6f58234",
   "metadata": {
    "execution": {
     "iopub.execute_input": "2024-11-08T15:58:03.103441Z",
     "iopub.status.busy": "2024-11-08T15:58:03.101799Z",
     "iopub.status.idle": "2024-11-08T15:58:03.108852Z",
     "shell.execute_reply": "2024-11-08T15:58:03.107483Z",
     "shell.execute_reply.started": "2024-11-08T15:58:03.103400Z"
    }
   },
   "source": [
    "## Add a choropleth (geographical map) and overlay the listings prices from the dataset.\n",
    "- Thank you for the geojson data: https://github.com/codeforgermany/click_that_hood/blob/main/public/data/boston.geojson?short_path=46589b4\n",
    "- Use log scale for the prices (so the colorbar isn't too compressed) - or change the scale of the colorbar.\n",
    "\n",
    "A quick visual inspection of the map allow us to see more expensive listings tend to northward, and in the following neighborhoods (in no particular order):\n",
    "- West End, North End, South End, Downtown, Leather District, Chinatown, Leather District, South Boston Waterfront, Fenway.\n",
    "\n",
    "- What if we run a regression-type model of price on latitude+longitude?"
   ]
  },
  {
   "cell_type": "code",
   "execution_count": 5,
   "id": "a2858597-c4d1-4b61-b5ed-d58552c887f6",
   "metadata": {
    "execution": {
     "iopub.execute_input": "2024-11-11T22:19:40.288756Z",
     "iopub.status.busy": "2024-11-11T22:19:40.288121Z",
     "iopub.status.idle": "2024-11-11T22:19:40.685229Z",
     "shell.execute_reply": "2024-11-11T22:19:40.685017Z",
     "shell.execute_reply.started": "2024-11-11T22:19:40.288712Z"
    }
   },
   "outputs": [
    {
     "data": {
      "text/html": [
       "<iframe\n",
       "    scrolling=\"no\"\n",
       "    width=\"100%\"\n",
       "    height=\"545px\"\n",
       "    src=\"iframe_figures/figure_5.html\"\n",
       "    frameborder=\"0\"\n",
       "    allowfullscreen\n",
       "></iframe>\n"
      ]
     },
     "metadata": {},
     "output_type": "display_data"
    }
   ],
   "source": [
    "# geoplot of neighborhoods with listings overlaid\n",
    "with open('./data/airbnb_boston/boston.geojson', 'r') as f:\n",
    "    geojson = json.load(f)\n",
    "    \n",
    "plot_data = boston_listings[['latitude', 'longitude', 'zipcode_cleaned', 'price']].dropna()\n",
    "plot_data['log_price'] = plot_data['price'].apply(np.log)\n",
    "\n",
    "fig = px.choropleth(\n",
    "    data_frame={'name': [i['properties']['name'] for i in geojson['features']]}, \n",
    "    geojson=geojson, \n",
    "    locations='name', \n",
    "    featureidkey=\"properties.name\",\n",
    "    title='Boston Neighborhoods and Airbnb Prices<br>Colorbar is Log Scale',\n",
    ")\n",
    "fig.update_geos(fitbounds=\"locations\", visible=False) \n",
    "fig.add_trace(\n",
    "    px.scatter_geo(\n",
    "        data_frame=plot_data, \n",
    "        lat='latitude', \n",
    "        lon='longitude', \n",
    "        color='log_price',\n",
    "        hover_data={\n",
    "            'latitude': ':.2f', \n",
    "            'longitude': ':.2f', \n",
    "            'price': ':.2f', \n",
    "            'log_price': ':.2f',\n",
    "        },\n",
    "    ).data[0])\n",
    "\n",
    "# relabel the colorbar (as showing log values is confusing)\n",
    "fig.update_coloraxes(colorbar={\n",
    "    'title': 'Price',\n",
    "    'tickvals': plot_data['log_price'].quantile([0.01, 0.999]).values,\n",
    "    'ticktext': ['Cheaper', 'Pricier'],\n",
    "})\n",
    "fig.update_layout(showlegend=False)\n",
    "\n",
    "fig.show()"
   ]
  },
  {
   "cell_type": "code",
   "execution_count": 6,
   "id": "069f7ba6-b47e-4b03-89c5-a2ef47cd3e97",
   "metadata": {
    "execution": {
     "iopub.execute_input": "2024-11-11T22:19:46.007130Z",
     "iopub.status.busy": "2024-11-11T22:19:46.006498Z",
     "iopub.status.idle": "2024-11-11T22:19:46.062843Z",
     "shell.execute_reply": "2024-11-11T22:19:46.062546Z",
     "shell.execute_reply.started": "2024-11-11T22:19:46.007091Z"
    }
   },
   "outputs": [
    {
     "data": {
      "text/html": [
       "<style type=\"text/css\">\n",
       "</style>\n",
       "<table id=\"T_242e0\">\n",
       "  <caption>Mean and Median Price by Neighborhood<br>Sorted by Median</caption>\n",
       "  <thead>\n",
       "    <tr>\n",
       "      <th class=\"blank level0\" >&nbsp;</th>\n",
       "      <th id=\"T_242e0_level0_col0\" class=\"col_heading level0 col0\" >Mean Price</th>\n",
       "      <th id=\"T_242e0_level0_col1\" class=\"col_heading level0 col1\" >Median Price</th>\n",
       "    </tr>\n",
       "    <tr>\n",
       "      <th class=\"index_name level0\" >neighbourhood_cleansed</th>\n",
       "      <th class=\"blank col0\" >&nbsp;</th>\n",
       "      <th class=\"blank col1\" >&nbsp;</th>\n",
       "    </tr>\n",
       "  </thead>\n",
       "  <tbody>\n",
       "    <tr>\n",
       "      <th id=\"T_242e0_level0_row0\" class=\"row_heading level0 row0\" >Hyde Park</th>\n",
       "      <td id=\"T_242e0_row0_col0\" class=\"data row0 col0\" >86.55</td>\n",
       "      <td id=\"T_242e0_row0_col1\" class=\"data row0 col1\" >58.00</td>\n",
       "    </tr>\n",
       "    <tr>\n",
       "      <th id=\"T_242e0_level0_row1\" class=\"row_heading level0 row1\" >Mattapan</th>\n",
       "      <td id=\"T_242e0_row1_col0\" class=\"data row1 col0\" >75.12</td>\n",
       "      <td id=\"T_242e0_row1_col1\" class=\"data row1 col1\" >67.00</td>\n",
       "    </tr>\n",
       "    <tr>\n",
       "      <th id=\"T_242e0_level0_row2\" class=\"row_heading level0 row2\" >Dorchester</th>\n",
       "      <td id=\"T_242e0_row2_col0\" class=\"data row2 col0\" >91.64</td>\n",
       "      <td id=\"T_242e0_row2_col1\" class=\"data row2 col1\" >72.00</td>\n",
       "    </tr>\n",
       "    <tr>\n",
       "      <th id=\"T_242e0_level0_row3\" class=\"row_heading level0 row3\" >Roslindale</th>\n",
       "      <td id=\"T_242e0_row3_col0\" class=\"data row3 col0\" >98.43</td>\n",
       "      <td id=\"T_242e0_row3_col1\" class=\"data row3 col1\" >76.50</td>\n",
       "    </tr>\n",
       "    <tr>\n",
       "      <th id=\"T_242e0_level0_row4\" class=\"row_heading level0 row4\" >Longwood Medical Area</th>\n",
       "      <td id=\"T_242e0_row4_col0\" class=\"data row4 col0\" >138.44</td>\n",
       "      <td id=\"T_242e0_row4_col1\" class=\"data row4 col1\" >84.00</td>\n",
       "    </tr>\n",
       "    <tr>\n",
       "      <th id=\"T_242e0_level0_row5\" class=\"row_heading level0 row5\" >Allston</th>\n",
       "      <td id=\"T_242e0_row5_col0\" class=\"data row5 col0\" >112.31</td>\n",
       "      <td id=\"T_242e0_row5_col1\" class=\"data row5 col1\" >85.00</td>\n",
       "    </tr>\n",
       "    <tr>\n",
       "      <th id=\"T_242e0_level0_row6\" class=\"row_heading level0 row6\" >West Roxbury</th>\n",
       "      <td id=\"T_242e0_row6_col0\" class=\"data row6 col0\" >107.11</td>\n",
       "      <td id=\"T_242e0_row6_col1\" class=\"data row6 col1\" >85.00</td>\n",
       "    </tr>\n",
       "    <tr>\n",
       "      <th id=\"T_242e0_level0_row7\" class=\"row_heading level0 row7\" >Mission Hill</th>\n",
       "      <td id=\"T_242e0_row7_col0\" class=\"data row7 col0\" >121.97</td>\n",
       "      <td id=\"T_242e0_row7_col1\" class=\"data row7 col1\" >89.50</td>\n",
       "    </tr>\n",
       "    <tr>\n",
       "      <th id=\"T_242e0_level0_row8\" class=\"row_heading level0 row8\" >Brighton</th>\n",
       "      <td id=\"T_242e0_row8_col0\" class=\"data row8 col0\" >118.77</td>\n",
       "      <td id=\"T_242e0_row8_col1\" class=\"data row8 col1\" >90.00</td>\n",
       "    </tr>\n",
       "    <tr>\n",
       "      <th id=\"T_242e0_level0_row9\" class=\"row_heading level0 row9\" >East Boston</th>\n",
       "      <td id=\"T_242e0_row9_col0\" class=\"data row9 col0\" >119.15</td>\n",
       "      <td id=\"T_242e0_row9_col1\" class=\"data row9 col1\" >99.00</td>\n",
       "    </tr>\n",
       "    <tr>\n",
       "      <th id=\"T_242e0_level0_row10\" class=\"row_heading level0 row10\" >Roxbury</th>\n",
       "      <td id=\"T_242e0_row10_col0\" class=\"data row10 col0\" >146.33</td>\n",
       "      <td id=\"T_242e0_row10_col1\" class=\"data row10 col1\" >99.00</td>\n",
       "    </tr>\n",
       "    <tr>\n",
       "      <th id=\"T_242e0_level0_row11\" class=\"row_heading level0 row11\" >Jamaica Plain</th>\n",
       "      <td id=\"T_242e0_row11_col0\" class=\"data row11 col0\" >138.48</td>\n",
       "      <td id=\"T_242e0_row11_col1\" class=\"data row11 col1\" >100.00</td>\n",
       "    </tr>\n",
       "    <tr>\n",
       "      <th id=\"T_242e0_level0_row12\" class=\"row_heading level0 row12\" >South Boston</th>\n",
       "      <td id=\"T_242e0_row12_col0\" class=\"data row12 col0\" >187.61</td>\n",
       "      <td id=\"T_242e0_row12_col1\" class=\"data row12 col1\" >150.00</td>\n",
       "    </tr>\n",
       "    <tr>\n",
       "      <th id=\"T_242e0_level0_row13\" class=\"row_heading level0 row13\" >North End</th>\n",
       "      <td id=\"T_242e0_row13_col0\" class=\"data row13 col0\" >195.68</td>\n",
       "      <td id=\"T_242e0_row13_col1\" class=\"data row13 col1\" >179.00</td>\n",
       "    </tr>\n",
       "    <tr>\n",
       "      <th id=\"T_242e0_level0_row14\" class=\"row_heading level0 row14\" >South End</th>\n",
       "      <td id=\"T_242e0_row14_col0\" class=\"data row14 col0\" >204.35</td>\n",
       "      <td id=\"T_242e0_row14_col1\" class=\"data row14 col1\" >180.00</td>\n",
       "    </tr>\n",
       "    <tr>\n",
       "      <th id=\"T_242e0_level0_row15\" class=\"row_heading level0 row15\" >Charlestown</th>\n",
       "      <td id=\"T_242e0_row15_col0\" class=\"data row15 col0\" >198.05</td>\n",
       "      <td id=\"T_242e0_row15_col1\" class=\"data row15 col1\" >180.00</td>\n",
       "    </tr>\n",
       "    <tr>\n",
       "      <th id=\"T_242e0_level0_row16\" class=\"row_heading level0 row16\" >Fenway</th>\n",
       "      <td id=\"T_242e0_row16_col0\" class=\"data row16 col0\" >220.39</td>\n",
       "      <td id=\"T_242e0_row16_col1\" class=\"data row16 col1\" >191.00</td>\n",
       "    </tr>\n",
       "    <tr>\n",
       "      <th id=\"T_242e0_level0_row17\" class=\"row_heading level0 row17\" >Beacon Hill</th>\n",
       "      <td id=\"T_242e0_row17_col0\" class=\"data row17 col0\" >224.44</td>\n",
       "      <td id=\"T_242e0_row17_col1\" class=\"data row17 col1\" >195.00</td>\n",
       "    </tr>\n",
       "    <tr>\n",
       "      <th id=\"T_242e0_level0_row18\" class=\"row_heading level0 row18\" >West End</th>\n",
       "      <td id=\"T_242e0_row18_col0\" class=\"data row18 col0\" >209.59</td>\n",
       "      <td id=\"T_242e0_row18_col1\" class=\"data row18 col1\" >199.00</td>\n",
       "    </tr>\n",
       "    <tr>\n",
       "      <th id=\"T_242e0_level0_row19\" class=\"row_heading level0 row19\" >Bay Village</th>\n",
       "      <td id=\"T_242e0_row19_col0\" class=\"data row19 col0\" >266.83</td>\n",
       "      <td id=\"T_242e0_row19_col1\" class=\"data row19 col1\" >206.50</td>\n",
       "    </tr>\n",
       "    <tr>\n",
       "      <th id=\"T_242e0_level0_row20\" class=\"row_heading level0 row20\" >Back Bay</th>\n",
       "      <td id=\"T_242e0_row20_col0\" class=\"data row20 col0\" >240.95</td>\n",
       "      <td id=\"T_242e0_row20_col1\" class=\"data row20 col1\" >209.00</td>\n",
       "    </tr>\n",
       "    <tr>\n",
       "      <th id=\"T_242e0_level0_row21\" class=\"row_heading level0 row21\" >Chinatown</th>\n",
       "      <td id=\"T_242e0_row21_col0\" class=\"data row21 col0\" >232.35</td>\n",
       "      <td id=\"T_242e0_row21_col1\" class=\"data row21 col1\" >219.00</td>\n",
       "    </tr>\n",
       "    <tr>\n",
       "      <th id=\"T_242e0_level0_row22\" class=\"row_heading level0 row22\" >Downtown</th>\n",
       "      <td id=\"T_242e0_row22_col0\" class=\"data row22 col0\" >236.46</td>\n",
       "      <td id=\"T_242e0_row22_col1\" class=\"data row22 col1\" >225.00</td>\n",
       "    </tr>\n",
       "    <tr>\n",
       "      <th id=\"T_242e0_level0_row23\" class=\"row_heading level0 row23\" >Leather District</th>\n",
       "      <td id=\"T_242e0_row23_col0\" class=\"data row23 col0\" >253.60</td>\n",
       "      <td id=\"T_242e0_row23_col1\" class=\"data row23 col1\" >245.00</td>\n",
       "    </tr>\n",
       "    <tr>\n",
       "      <th id=\"T_242e0_level0_row24\" class=\"row_heading level0 row24\" >South Boston Waterfront</th>\n",
       "      <td id=\"T_242e0_row24_col0\" class=\"data row24 col0\" >306.06</td>\n",
       "      <td id=\"T_242e0_row24_col1\" class=\"data row24 col1\" >245.00</td>\n",
       "    </tr>\n",
       "  </tbody>\n",
       "</table>\n"
      ],
      "text/plain": [
       "<pandas.io.formats.style.Styler at 0x16d3a2490>"
      ]
     },
     "execution_count": 6,
     "metadata": {},
     "output_type": "execute_result"
    }
   ],
   "source": [
    "pd.concat([\n",
    "    boston_listings[['price', 'neighbourhood_cleansed']].groupby('neighbourhood_cleansed').mean().squeeze().to_frame('Mean Price'),\n",
    "    boston_listings[['price', 'neighbourhood_cleansed']].groupby('neighbourhood_cleansed').median().squeeze().to_frame('Median Price'),\n",
    "], axis=1).sort_values(by='Median Price').style.format('{:.2f}').set_caption('Mean and Median Price by Neighborhood<br>Sorted by Median')"
   ]
  },
  {
   "cell_type": "markdown",
   "id": "14911af8-ca3b-48c4-9a5c-d37b901d3b60",
   "metadata": {},
   "source": [
    "# Let's look at how well a regression can fit price on latitude and longitude\n",
    "- This gives a very poor fit, even on the training set. Why?\n",
    "    - It could be that latitude and longtide - which reflect locations on a sphere (the Earth) do not align well with 2d locations on a map.\n",
    "    - Therefore, the link betweeb price and lat/lon may not be linear, which means regression is not the right tool.\n",
    "    - Let's keep exploring."
   ]
  },
  {
   "cell_type": "code",
   "execution_count": 47,
   "id": "fb323694-c1f6-4b3a-8d01-07c83992a5e2",
   "metadata": {
    "execution": {
     "iopub.execute_input": "2024-11-11T22:39:15.503181Z",
     "iopub.status.busy": "2024-11-11T22:39:15.502597Z",
     "iopub.status.idle": "2024-11-11T22:39:15.517566Z",
     "shell.execute_reply": "2024-11-11T22:39:15.517036Z",
     "shell.execute_reply.started": "2024-11-11T22:39:15.503159Z"
    }
   },
   "outputs": [
    {
     "name": "stdout",
     "output_type": "stream",
     "text": [
      "Estimating price~1+latitude+longitude\n",
      "... Train fit: 0.06\n",
      "... Test fit: 0.04\n",
      "... Filling NaNs in price with estimated data\n"
     ]
    }
   ],
   "source": [
    "reg_price_on_lat_lon = estimate_y_from_X(\n",
    "    data=boston_listings,\n",
    "    y_label='price',\n",
    "    X_labels=['latitude', 'longitude'],\n",
    "    train_size=0.6,\n",
    "    random_state=42,\n",
    "    add_constant=False,\n",
    ")"
   ]
  },
  {
   "cell_type": "code",
   "execution_count": 57,
   "id": "2ec866ab-f761-46e8-a4e6-b060aa5755ff",
   "metadata": {
    "execution": {
     "iopub.execute_input": "2024-11-11T22:44:42.650303Z",
     "iopub.status.busy": "2024-11-11T22:44:42.649419Z",
     "iopub.status.idle": "2024-11-11T22:44:42.735984Z",
     "shell.execute_reply": "2024-11-11T22:44:42.735732Z",
     "shell.execute_reply.started": "2024-11-11T22:44:42.650262Z"
    }
   },
   "outputs": [
    {
     "data": {
      "text/plain": [
       "<Axes: xlabel='y_train', ylabel='y_fitted'>"
      ]
     },
     "execution_count": 57,
     "metadata": {},
     "output_type": "execute_result"
    },
    {
     "data": {
      "image/png": "[encoded data removed]",
      "text/plain": [
       "<Figure size 640x480 with 1 Axes>"
      ]
     },
     "metadata": {},
     "output_type": "display_data"
    }
   ],
   "source": [
    "sns.scatterplot(\n",
    "    data=pd.concat({\n",
    "        'y_train': reg_price_on_lat_lon['y_train'],\n",
    "        'y_fitted': reg_price_on_lat_lon['model'].fittedvalues,\n",
    "    }, axis=1),\n",
    "    x='y_train',\n",
    "    y='y_fitted',\n",
    ")"
   ]
  },
  {
   "cell_type": "markdown",
   "id": "26f49772-5297-4605-a08e-6dfab07b1a3c",
   "metadata": {},
   "source": [
    "# Question 2: How do characteristics influence Airbnb listing prices?\n",
    "- Here, we can structure a regression on categorical variables against price.\n",
    "- Remember to create dummies from the categoricals.\n",
    "- From a manual review of categories, these look like they may be informative (not free text, not arbitrary values, etc)\n",
    "    - room_type\n",
    "- TODO: clean up AMENITIES"
   ]
  },
  {
   "cell_type": "code",
   "execution_count": null,
   "id": "9c2ee473-50be-4d7a-8e42-5da72068b2d5",
   "metadata": {},
   "outputs": [],
   "source": [
    "boston_listings['room_type'].unique()"
   ]
  },
  {
   "cell_type": "code",
   "execution_count": null,
   "id": "ce8741ff-1387-469f-9035-16e17bb45878",
   "metadata": {},
   "outputs": [],
   "source": [
    "ignore = [\n",
    "    'name', 'summary', 'space', 'description', 'neighborhood_overview', 'host_verifications', 'neighbourhood', 'host_about', 'notes',\n",
    "    'transit', 'host_location', 'access', 'host_about', 'interaction', 'zipcode', 'smart_location', 'house_rules',\n",
    "    'neighbourhood_cleansed', 'city', 'street', 'host_neighbourhood', 'host_name',\n",
    "]\n",
    "\n",
    "unique_characteristics = {}\n",
    "for i in boston_listing_col_types['object']:\n",
    "    if i in ignore or '_url' in i:\n",
    "        continue\n",
    "    unique_values = boston_listings[i].dropna().unique()\n",
    "    if len(unique_values) > 1:\n",
    "        unique_characteristics[i] = unique_values"
   ]
  },
  {
   "cell_type": "code",
   "execution_count": null,
   "id": "5714d1f9-7a23-4cf8-b92f-c5447e7bcb30",
   "metadata": {},
   "outputs": [],
   "source": [
    "unique_characteristics"
   ]
  },
  {
   "cell_type": "code",
   "execution_count": null,
   "id": "b3e79871-2c84-4bfe-961b-e4edd445a431",
   "metadata": {},
   "outputs": [],
   "source": [
    "boston_listings[boston_listing_col_types['object']].iloc[-1]"
   ]
  },
  {
   "cell_type": "code",
   "execution_count": null,
   "id": "773cbb4e-19a1-4e3a-8990-d71a8be0b223",
   "metadata": {},
   "outputs": [],
   "source": []
  },
  {
   "cell_type": "markdown",
   "id": "f45ab46b-fdea-4aca-a3f3-c5a0da7bfaf2",
   "metadata": {},
   "source": [
    "# Question 3: How does time influence Airbnb listing prices?\n",
    "- Day of week.\n",
    "- Week of month.\n",
    "- Month of year."
   ]
  },
  {
   "cell_type": "code",
   "execution_count": null,
   "id": "f722736f-508e-43e8-bd10-f95e35838ad5",
   "metadata": {},
   "outputs": [],
   "source": []
  },
  {
   "cell_type": "code",
   "execution_count": null,
   "id": "8fa209b8-8092-4fd5-b110-509e6870b51a",
   "metadata": {},
   "outputs": [],
   "source": []
  },
  {
   "cell_type": "code",
   "execution_count": null,
   "id": "59a2e3e5-c2b4-478f-a2bc-c30e737bc810",
   "metadata": {},
   "outputs": [],
   "source": [
    "sns.scatterplot(\n",
    "    data=boston_listings[['price', 'square_feet']].dropna(),\n",
    "    x='square_feet', y='price')"
   ]
  },
  {
   "cell_type": "code",
   "execution_count": null,
   "id": "0f16588a-87ad-42ba-a80e-36b1378e2853",
   "metadata": {},
   "outputs": [],
   "source": [
    "sns.pairplot(\n",
    "    boston_listings[boston_listing_col_types['float']].sort_index().dropna(how='all', axis=1) \\\n",
    "        .drop(['latitude', 'longitude', 'weekly_price', 'monthly_price'], axis=1)\n",
    ")"
   ]
  },
  {
   "cell_type": "code",
   "execution_count": null,
   "id": "0cfc25a8-55a9-4d6c-9d0c-7a7b361afc60",
   "metadata": {},
   "outputs": [],
   "source": [
    "boston_calendar[boston_calendar.price.isnull()]"
   ]
  },
  {
   "cell_type": "code",
   "execution_count": null,
   "id": "e903c2fc-b869-479e-a9c2-c88bb02cd307",
   "metadata": {},
   "outputs": [],
   "source": [
    "boston_calendar[boston_calendar.price.notnull()]"
   ]
  },
  {
   "cell_type": "code",
   "execution_count": null,
   "id": "a61e424c-fff6-445f-a085-d6bf7fd91e73",
   "metadata": {},
   "outputs": [],
   "source": [
    "# convert price column to a float, assuming format of $#.#\n",
    "boston_calendar.price = [float(i.replace('$', '').replace(',', '')) if type(i) is str else i for i in boston_calendar.price]\n",
    "\n",
    "# concert date to a datetime object\n",
    "boston_calendar.date = [pd.Timestamp(i) if type(i) is str else i for i in boston_calendar.date]\n",
    "\n",
    "# add a month, year columns for seasonality analysis\n",
    "boston_calendar['month'] = [i.month for i in boston_calendar.date]\n",
    "boston_calendar['year'] = [i.year for i in boston_calendar.date]"
   ]
  },
  {
   "cell_type": "code",
   "execution_count": null,
   "id": "4b6b5b1f-97aa-43c1-9a24-967a28fed7a3",
   "metadata": {},
   "outputs": [],
   "source": [
    "sns.boxplot(\n",
    "    data=boston_calendar.dropna(),\n",
    "    x='month',\n",
    "    y='price',\n",
    ")"
   ]
  },
  {
   "cell_type": "code",
   "execution_count": null,
   "id": "a2056c13-fab6-4ec8-8418-7e05c0256c29",
   "metadata": {},
   "outputs": [],
   "source": []
  }
 ],
 "metadata": {
  "kernelspec": {
   "display_name": "Python 3 (ipykernel)",
   "language": "python",
   "name": "python3"
  },
  "language_info": {
   "codemirror_mode": {
    "name": "ipython",
    "version": 3
   },
   "file_extension": ".py",
   "mimetype": "text/x-python",
   "name": "python",
   "nbconvert_exporter": "python",
   "pygments_lexer": "ipython3",
   "version": "3.11.5"
  }
 },
 "nbformat": 4,
 "nbformat_minor": 5
}
